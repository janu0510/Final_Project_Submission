{
  "nbformat": 4,
  "nbformat_minor": 0,
  "metadata": {
    "accelerator": "GPU",
    "colab": {
      "name": "notebook.ipynb",
      "provenance": [],
      "collapsed_sections": [],
      "toc_visible": true,
      "machine_shape": "hm"
    },
    "kernelspec": {
      "display_name": "tensorflow",
      "language": "python",
      "name": "tensorflow"
    },
    "language_info": {
      "codemirror_mode": {
        "name": "ipython",
        "version": 3
      },
      "file_extension": ".py",
      "mimetype": "text/x-python",
      "name": "python",
      "nbconvert_exporter": "python",
      "pygments_lexer": "ipython3",
      "version": "3.7.9"
    }
  },
  "cells": [
    {
      "cell_type": "markdown",
      "metadata": {
        "id": "DdS2aNTgvHdr"
      },
      "source": [
        "# Final Project - Classification of Honey Bee and Bumble Bee"
      ]
    },
    {
      "cell_type": "markdown",
      "metadata": {
        "id": "RXdPo8ibvHdr"
      },
      "source": [
        "In this project we are implementing a deep learning model that automatically detects honey bess and bumble bees. Once the model is trained, we evaluate it on the test data to see how good the model can perform the defined task.\n",
        "\n",
        "<em>A honey bee.</em></p>\n",
        "<p><img src=\"https://assets.datacamp.com/production/project_555/img/92_notebook.jpg\" alt=\"honey bee\">\n",
        "\n",
        "<em>A bumble bee .</em></p>\n",
        "\n",
        "<p><img src=\"https://assets.datacamp.com/production/project_555/img/20_notebook.jpg\" alt=\"bumble bee\">\n"
      ]
    },
    {
      "cell_type": "markdown",
      "metadata": {
        "id": "z6EVl-L1vHds"
      },
      "source": [
        "## Mounting the drive"
      ]
    },
    {
      "cell_type": "code",
      "metadata": {
        "colab": {
          "base_uri": "https://localhost:8080/"
        },
        "id": "nJotNoJEM9uf",
        "outputId": "d8454acf-650e-4ac8-ae8c-d1b821e55ce1"
      },
      "source": [
        "#mount drive\n",
        "from google.colab import drive\n",
        "drive.mount('/content/drive')"
      ],
      "execution_count": null,
      "outputs": [
        {
          "output_type": "stream",
          "text": [
            "Drive already mounted at /content/drive; to attempt to forcibly remount, call drive.mount(\"/content/drive\", force_remount=True).\n"
          ],
          "name": "stdout"
        }
      ]
    },
    {
      "cell_type": "markdown",
      "metadata": {
        "id": "sPTCwJgJvHdt"
      },
      "source": [
        "## 1. Import the necessary libraries"
      ]
    },
    {
      "cell_type": "code",
      "metadata": {
        "dc": {
          "key": "3"
        },
        "id": "gPB9mUBeM5K7",
        "tags": [
          "sample_code"
        ],
        "outputId": "d137b1a0-9c23-4ca8-9e87-c2873019f23d"
      },
      "source": [
        "import pickle\n",
        "from pathlib import Path\n",
        "from skimage import io\n",
        "\n",
        "import pandas as pd\n",
        "import numpy as np\n",
        "\n",
        "import matplotlib.pyplot as plt\n",
        "%matplotlib inline\n",
        "\n",
        "from sklearn.preprocessing import StandardScaler\n",
        "from sklearn.model_selection import train_test_split\n",
        "from sklearn.metrics import classification_report\n",
        "\n",
        "# import keras library\n",
        "import keras\n",
        "\n",
        "# import Sequential from the keras models module\n",
        "from keras.models import Sequential\n",
        "\n",
        "# import Dense, Dropout, Flatten, Conv2D, MaxPooling2D from the keras layers module\n",
        "from keras.layers import Dense, Dropout, Flatten, Conv2D, MaxPooling2D"
      ],
      "execution_count": null,
      "outputs": [
        {
          "output_type": "stream",
          "text": [
            "Using TensorFlow backend.\n"
          ],
          "name": "stderr"
        }
      ]
    },
    {
      "cell_type": "markdown",
      "metadata": {
        "dc": {
          "key": "10"
        },
        "deletable": false,
        "editable": false,
        "id": "EovbZ1j6M5K8",
        "run_control": {
          "frozen": true
        },
        "tags": [
          "context"
        ]
      },
      "source": [
        "## 2. Load image labels\n",
        "Now lets look at the labels for our data. We will load our <code>labels.csv</code> file into a DataFrame called <code>labels</code>, where the index column is the image name and the <code>genus</code> column tells us the bee type. <code>genus</code> takes the value of either <code>0.0</code> (honey bee) or <code>1.0</code> (bumble bee)."
      ]
    },
    {
      "cell_type": "code",
      "metadata": {
        "colab": {
          "base_uri": "https://localhost:8080/"
        },
        "dc": {
          "key": "10"
        },
        "id": "im7qF3q2M5K8",
        "tags": [
          "sample_code"
        ],
        "outputId": "baa316b1-aee4-4bd6-ae3a-b0e91b0f9215"
      },
      "source": [
        "# load labels.csv from datasets folder using pandas\n",
        "labels = pd.read_csv('/content/drive/MyDrive/Naive-Bees-Deep-Learning-with-Images/datasets/labels.csv', index_col=0)\n",
        "\n",
        "# print value counts for genus\n",
        "print(labels.genus.count())\n",
        "DEADLINE: 16.02.2020\n",
        "\n",
        "# assign the genus label values to y\n",
        "y = labels.genus.values"
      ],
      "execution_count": null,
      "outputs": [
        {
          "output_type": "stream",
          "text": [
            "3968\n"
          ],
          "name": "stdout"
        }
      ]
    },
    {
      "cell_type": "markdown",
      "metadata": {
        "dc": {
          "key": "17"
        },
        "deletable": false,
        "editable": false,
        "id": "4OgQMlCPM5K-",
        "run_control": {
          "frozen": true
        },
        "tags": [
          "context"
        ]
      },
      "source": [
        "Let's look at the data for a sample image. "
      ]
    },
    {
      "cell_type": "code",
      "metadata": {
        "colab": {
          "base_uri": "https://localhost:8080/",
          "height": 320
        },
        "dc": {
          "key": "17"
        },
        "id": "ARjVdxxEM5K_",
        "tags": [
          "sample_code"
        ],
        "outputId": "088fe0d5-66e6-42b7-8b59-21ca6e939eca"
      },
      "source": [
        "# load an image and explore\n",
        "%cd /content/drive/MyDrive/Naive-Bees-Deep-Learning-with-Images/\n",
        "example_image = io.imread('datasets/images/{}.jpg'.format(labels.index[0]))\n",
        "\n",
        "# show image\n",
        "plt.imshow(example_image)\n",
        "\n",
        "# print shape\n",
        "print('Example image has shape: ', example_image.shape)\n",
        "                    \n",
        "# print color channel values for top left pixel\n",
        "print('RGB values for the top left pixel are:', example_image[0,0,:])"
      ],
      "execution_count": null,
      "outputs": [
        {
          "output_type": "stream",
          "text": [
            "/content/drive/MyDrive/Naive-Bees-Deep-Learning-with-Images\n",
            "Example image has shape:  (200, 200, 3)\n",
            "RGB values for the top left pixel are: [129 109 102]\n"
          ],
          "name": "stdout"
        },
        {
          "output_type": "display_data",
          "data": {
            "image/png": "[encoded data removed]",
            "text/plain": [
              "<Figure size 432x288 with 1 Axes>"
            ]
          },
          "metadata": {
            "tags": [],
            "needs_background": "light"
          }
        }
      ]
    },
    {
      "cell_type": "markdown",
      "metadata": {
        "dc": {
          "key": "24"
        },
        "deletable": false,
        "editable": false,
        "id": "6blMwhk3M5LA",
        "run_control": {
          "frozen": true
        },
        "tags": [
          "context"
        ]
      },
      "source": [
        "## 4. Normalize image data\n",
        "Now we need to normalize the image data. Normalization is a general term that means changing the scale of our data so it is consistent.</p>\n",
        "<p>In this case, we want each feature to have a similar range so our neural network can learn effectively across all the features.\n",
        "<p>We will scale our data so that it has a mean of 0 and standard deviation of 1. We'll use sklearn's <code>StandardScaler</code> to do this, which entails taking each value, subtracting the mean, and then dividing by the standard deviation. We need to do this for each color channel (i.e. each feature) individually."
      ]
    },
    {
      "cell_type": "code",
      "metadata": {
        "colab": {
          "base_uri": "https://localhost:8080/"
        },
        "dc": {
          "key": "24"
        },
        "id": "ng74cpX_M5LA",
        "tags": [
          "sample_code"
        ],
        "outputId": "f140152d-c4af-4344-e7d5-2ce12e39c879"
      },
      "source": [
        "%cd /content/drive/MyDrive/Naive-Bees-Deep-Learning-with-Images/\n",
        "# initialize standard scaler\n",
        "ss = StandardScaler()\n",
        "count = 0\n",
        "image_list = []\n",
        "for i in labels.index:\n",
        "    # load image\n",
        "    img = io.imread('datasets/images/{}.jpg'.format(i)).astype(np.float64)\n",
        "    \n",
        "    # for each channel, apply standard scaler's fit_transform method\n",
        "    for channel in range(img.shape[2]):\n",
        "        img[:, :, channel] = ss.fit_transform(img[:, :, channel])\n",
        "        # if(img.shape != (200, 200, 3)):\n",
        "        #   count = count+1\n",
        "        #   print(\"datasets/images/{}.jpg\".format(i) + \": \" +str(img.shape))\n",
        "\n",
        "    # append to list of all images\n",
        "    image_list.append(img)\n",
        "\n",
        "# print(count)\n",
        "# convert image list to single array\n",
        "X = np.array(image_list)\n",
        "\n",
        "# print shape of X\n",
        "print(X.shape)"
      ],
      "execution_count": null,
      "outputs": [
        {
          "output_type": "stream",
          "text": [
            "/content/drive/MyDrive/Naive-Bees-Deep-Learning-with-Images\n",
            "(3968, 200, 200, 3)\n"
          ],
          "name": "stdout"
        }
      ]
    },
    {
      "cell_type": "markdown",
      "metadata": {
        "dc": {
          "key": "31"
        },
        "deletable": false,
        "editable": false,
        "id": "cBV5K0XzM5LB",
        "run_control": {
          "frozen": true
        },
        "tags": [
          "context"
        ]
      },
      "source": [
        "## 5. Split into train, test, and evaluation sets\n",
        "Now we split the data into train, test, and evaluation sets. To do this, we'll first allocate 20% of the data into our evaluation, or holdout, set. This is data that the model never sees during training and will be used to score our trained model.</p>\n",
        "<p>We will then split the remaining data, 60/40. We will pass both the train and test sets into the neural network. </p>"
      ]
    },
    {
      "cell_type": "code",
      "metadata": {
        "colab": {
          "base_uri": "https://localhost:8080/"
        },
        "dc": {
          "key": "31"
        },
        "id": "DZKr8Lj9M5LB",
        "tags": [
          "sample_code"
        ],
        "outputId": "6e1a3c64-8684-43a1-c107-1da419f0fc84"
      },
      "source": [
        "# split out evaluation sets (x_eval and y_eval)\n",
        "x_interim, x_eval, y_interim, y_eval = train_test_split(X,\n",
        "                                           y,\n",
        "                                           test_size=0.2,\n",
        "                                           random_state=52)\n",
        "\n",
        "# split remaining data into train and test sets\n",
        "x_train, x_test, y_train, y_test = train_test_split(x_interim,\n",
        "                                           y_interim,\n",
        "                                           test_size=0.4,\n",
        "                                           random_state=52)\n",
        "\n",
        "# examine number of samples in train, test, and validation sets\n",
        "print('x_train shape:', x_train.shape)\n",
        "print(x_train.shape[0], 'train samples')\n",
        "print(x_test.shape[0], 'test samples')\n",
        "print(x_eval.shape[0], 'eval samples')"
      ],
      "execution_count": null,
      "outputs": [
        {
          "output_type": "stream",
          "text": [
            "x_train shape: (1904, 200, 200, 3)\n",
            "1904 train samples\n",
            "1270 test samples\n",
            "794 eval samples\n"
          ],
          "name": "stdout"
        }
      ]
    },
    {
      "cell_type": "markdown",
      "metadata": {
        "dc": {
          "key": "17"
        },
        "deletable": false,
        "editable": false,
        "run_control": {
          "frozen": true
        },
        "tags": [
          "context"
        ],
        "id": "al06iZGY2EuH"
      },
      "source": [
        "This is the number of images which we have in our dataset.\n"
      ]
    },
    {
      "cell_type": "markdown",
      "metadata": {
        "dc": {
          "key": "38"
        },
        "deletable": false,
        "editable": false,
        "id": "3kBzpsojM5LC",
        "run_control": {
          "frozen": true
        },
        "tags": [
          "context"
        ]
      },
      "source": [
        "## 6. Model building\n",
        "<p>Now we build the deep learning model, a convolutional neural network (CNN). </p>\n",
        "<p>Building a CNN begins with specifying the model type. In our case, we'll use a Sequential model, which is a linear stack of layers. We'll then add two convolutional layers. Then we add a Max Pooling layer, Conv2D, Droupout to avoid overfitting with 25% drop, Flatten, Dense, and another dropout layer to safeguard against overfitting, this time with a rate of 50% drop. And now a final Dense layer which calculates the probability the image is either a bumble bee or honey bee.\n"
      ]
    },
    {
      "cell_type": "code",
      "metadata": {
        "collapsed": true,
        "dc": {
          "key": "38"
        },
        "id": "h4zc7MHLM5LD",
        "tags": [
          "sample_code"
        ]
      },
      "source": [
        "# set model constants\n",
        "num_classes = 1\n",
        "\n",
        "# define model as Sequential\n",
        "model = Sequential()\n",
        "\n",
        "# first convolutional layer with 32 filters\n",
        "model.add(Conv2D(32, kernel_size=(3, 3), activation='relu', input_shape=(200, 200, 3)))\n",
        "\n",
        "# add a second 2D convolutional layer with 64 filters\n",
        "model.add(Conv2D(64, kernel_size=(3, 3), activation='relu', input_shape=(200, 200, 3)))"
      ],
      "execution_count": null,
      "outputs": []
    },
    {
      "cell_type": "code",
      "metadata": {
        "colab": {
          "base_uri": "https://localhost:8080/"
        },
        "dc": {
          "key": "45"
        },
        "id": "Xr3EF2TQM5LE",
        "tags": [
          "sample_code"
        ],
        "outputId": "8ca953ca-01d6-4f33-a7f1-2478db871030"
      },
      "source": [
        "# reduce dimensionality through max pooling\n",
        "model.add(MaxPooling2D(pool_size=(2, 2)))\n",
        "# third convolutional layer with 64 filters\n",
        "model.add(Conv2D(64, kernel_size=(3, 3), activation='relu'))\n",
        "# add dropout to prevent over fitting\n",
        "model.add(Dropout(0.25))\n",
        "# necessary flatten step preceeding dense layer\n",
        "model.add(Flatten())\n",
        "# fully connected layer\n",
        "model.add(Dense(128, activation='relu'))\n",
        "\n",
        "# add additional dropout to prevent overfitting\n",
        "model.add(Dropout(0.5))\n",
        "\n",
        "# prediction layers\n",
        "model.add(Dense(num_classes, activation='sigmoid', name='preds'))\n",
        "\n",
        "# show model summary\n",
        "model.summary()"
      ],
      "execution_count": null,
      "outputs": [
        {
          "output_type": "stream",
          "text": [
            "Model: \"sequential\"\n",
            "_________________________________________________________________\n",
            "Layer (type)                 Output Shape              Param #   \n",
            "=================================================================\n",
            "conv2d (Conv2D)              (None, 198, 198, 32)      896       \n",
            "_________________________________________________________________\n",
            "conv2d_1 (Conv2D)            (None, 196, 196, 64)      18496     \n",
            "_________________________________________________________________\n",
            "max_pooling2d (MaxPooling2D) (None, 98, 98, 64)        0         \n",
            "_________________________________________________________________\n",
            "conv2d_2 (Conv2D)            (None, 96, 96, 64)        36928     \n",
            "_________________________________________________________________\n",
            "dropout (Dropout)            (None, 96, 96, 64)        0         \n",
            "_________________________________________________________________\n",
            "flatten (Flatten)            (None, 589824)            0         \n",
            "_________________________________________________________________\n",
            "dense (Dense)                (None, 128)               75497600  \n",
            "_________________________________________________________________\n",
            "dropout_1 (Dropout)          (None, 128)               0         \n",
            "_________________________________________________________________\n",
            "preds (Dense)                (None, 1)                 129       \n",
            "=================================================================\n",
            "Total params: 75,554,049\n",
            "Trainable params: 75,554,049\n",
            "Non-trainable params: 0\n",
            "_________________________________________________________________\n"
          ],
          "name": "stdout"
        }
      ]
    },
    {
      "cell_type": "markdown",
      "metadata": {
        "dc": {
          "key": "52"
        },
        "deletable": false,
        "editable": false,
        "id": "KmqQn5XmM5LF",
        "run_control": {
          "frozen": true
        },
        "tags": [
          "context"
        ]
      },
      "source": [
        "## 8. Compile and train model\n",
        "<p>As the model architecture is defined, now we compile the model for training. For this we need to specify the loss function (what we're trying to minimize), the optimizer (how we want to go about minimizing the loss), and the metric (how we'll judge the performance of the model).</p>\n",
        "<p>Then, we'll call <code>.fit</code></a> to begin the trainig the process. </p>\n",
        "\n",
        "We are using checkpoints to save the best weights by checking the validation loss. We use earlystopping here to avoid overfitting of the model."
      ]
    },
    {
      "cell_type": "code",
      "metadata": {
        "colab": {
          "base_uri": "https://localhost:8080/"
        },
        "dc": {
          "key": "52"
        },
        "id": "OZ3Xmyo2M5LF",
        "tags": [
          "sample_code"
        ],
        "outputId": "16c59071-a241-4ef2-88d3-5262c32fa52b"
      },
      "source": [
        "from tensorflow.keras.callbacks import ModelCheckpoint, EarlyStopping\n",
        "\n",
        "model.compile(\n",
        "    # set the loss as binary_crossentropy\n",
        "    loss=keras.losses.binary_crossentropy,\n",
        "    # set the optimizer as stochastic gradient descent\n",
        "    optimizer=keras.optimizers.SGD(lr=0.001),\n",
        "    # set the metric as accuracy\n",
        "    metrics=['accuracy']\n",
        ")\n",
        "\n",
        "checkpoint = ModelCheckpoint(\"/content/drive/MyDrive/Naive-Bees-Deep-Learning-with-Images/datasets/checkpoint_notebook/weights-improvement-{epoch:02d}-{val_loss:.2f}.hdf5\", monitor=\"val_loss\", mode=\"min\", save_best_only = True, verbose=1)\n",
        "earlystop = EarlyStopping(monitor = 'val_loss',  min_delta = 0,  patience = 5, verbose = 1, restore_best_weights = True)\n",
        "callbacks = [checkpoint,earlystop]\n",
        "\n",
        "history= model.fit(\n",
        "    x_train,\n",
        "    y_train,\n",
        "    epochs=200,\n",
        "    verbose=1,\n",
        "    validation_data=(x_test, y_test),\n",
        "    callbacks=callbacks\n",
        ")"
      ],
      "execution_count": null,
      "outputs": [
        {
          "output_type": "stream",
          "text": [
            "Epoch 1/200\n",
            "60/60 [==============================] - 7s 80ms/step - loss: 0.5554 - accuracy: 0.7499 - val_loss: 0.5053 - val_accuracy: 0.7874\n",
            "\n",
            "Epoch 00001: val_loss improved from inf to 0.50532, saving model to /content/drive/MyDrive/Naive-Bees-Deep-Learning-with-Images/datasets/checkpoint_notebook/weights-improvement-01-0.51.hdf5\n",
            "Epoch 2/200\n",
            "60/60 [==============================] - 4s 68ms/step - loss: 0.5041 - accuracy: 0.7858 - val_loss: 0.5049 - val_accuracy: 0.7874\n",
            "\n",
            "Epoch 00002: val_loss improved from 0.50532 to 0.50486, saving model to /content/drive/MyDrive/Naive-Bees-Deep-Learning-with-Images/datasets/checkpoint_notebook/weights-improvement-02-0.50.hdf5\n",
            "Epoch 3/200\n",
            "60/60 [==============================] - 4s 68ms/step - loss: 0.4947 - accuracy: 0.7812 - val_loss: 0.4915 - val_accuracy: 0.7874\n",
            "\n",
            "Epoch 00003: val_loss improved from 0.50486 to 0.49149, saving model to /content/drive/MyDrive/Naive-Bees-Deep-Learning-with-Images/datasets/checkpoint_notebook/weights-improvement-03-0.49.hdf5\n",
            "Epoch 4/200\n",
            "60/60 [==============================] - 4s 68ms/step - loss: 0.4311 - accuracy: 0.8045 - val_loss: 0.4847 - val_accuracy: 0.7945\n",
            "\n",
            "Epoch 00004: val_loss improved from 0.49149 to 0.48466, saving model to /content/drive/MyDrive/Naive-Bees-Deep-Learning-with-Images/datasets/checkpoint_notebook/weights-improvement-04-0.48.hdf5\n",
            "Epoch 5/200\n",
            "60/60 [==============================] - 4s 68ms/step - loss: 0.4434 - accuracy: 0.8053 - val_loss: 0.5028 - val_accuracy: 0.7811\n",
            "\n",
            "Epoch 00005: val_loss did not improve from 0.48466\n",
            "Epoch 6/200\n",
            "60/60 [==============================] - 4s 68ms/step - loss: 0.4166 - accuracy: 0.8124 - val_loss: 0.5240 - val_accuracy: 0.7528\n",
            "\n",
            "Epoch 00006: val_loss did not improve from 0.48466\n",
            "Epoch 7/200\n",
            "60/60 [==============================] - 4s 68ms/step - loss: 0.4146 - accuracy: 0.8134 - val_loss: 0.5800 - val_accuracy: 0.6858\n",
            "\n",
            "Epoch 00007: val_loss did not improve from 0.48466\n",
            "Epoch 8/200\n",
            "60/60 [==============================] - 4s 69ms/step - loss: 0.4314 - accuracy: 0.7979 - val_loss: 0.4888 - val_accuracy: 0.7921\n",
            "\n",
            "Epoch 00008: val_loss did not improve from 0.48466\n",
            "Epoch 9/200\n",
            "60/60 [==============================] - 4s 67ms/step - loss: 0.3907 - accuracy: 0.8213 - val_loss: 0.4890 - val_accuracy: 0.7827\n",
            "\n",
            "Epoch 00009: val_loss did not improve from 0.48466\n",
            "Restoring model weights from the end of the best epoch.\n",
            "Epoch 00009: early stopping\n"
          ],
          "name": "stdout"
        }
      ]
    },
    {
      "cell_type": "markdown",
      "metadata": {
        "dc": {
          "key": "59"
        },
        "deletable": false,
        "editable": false,
        "id": "JhuaxqQOM5LG",
        "run_control": {
          "frozen": true
        },
        "tags": [
          "context"
        ]
      },
      "source": [
        "## 9. Visualize model training history\n",
        "\n"
      ]
    },
    {
      "cell_type": "code",
      "metadata": {
        "colab": {
          "base_uri": "https://localhost:8080/",
          "height": 530
        },
        "id": "9DIbKd7jkwNU",
        "outputId": "33314317-b972-4cb7-8f9e-8b92fc6e4f86"
      },
      "source": [
        "# summarize history for loss\n",
        "# plt.plot(history.history['loss'], label='train loss')\n",
        "plt.plot(history.history['val_loss'], label='val loss')\n",
        "plt.legend()\n",
        "plt.show()\n",
        "plt.savefig('Val_loss')\n",
        "\n",
        "# plt.plot(history.history['loss'], label='train loss')\n",
        "plt.plot(history.history['val_accuracy'], label='val accuracy')\n",
        "plt.legend()\n",
        "plt.show()\n",
        "plt.savefig('Val_accuracy')"
      ],
      "execution_count": null,
      "outputs": [
        {
          "output_type": "display_data",
          "data": {
            "image/png": "[encoded data removed]",
            "text/plain": [
              "<Figure size 432x288 with 1 Axes>"
            ]
          },
          "metadata": {
            "tags": [],
            "needs_background": "light"
          }
        },
        {
          "output_type": "display_data",
          "data": {
            "image/png": "[encoded data removed]",
            "text/plain": [
              "<Figure size 432x288 with 1 Axes>"
            ]
          },
          "metadata": {
            "tags": [],
            "needs_background": "light"
          }
        },
        {
          "output_type": "display_data",
          "data": {
            "text/plain": [
              "<Figure size 432x288 with 0 Axes>"
            ]
          },
          "metadata": {
            "tags": []
          }
        }
      ]
    },
    {
      "cell_type": "markdown",
      "metadata": {
        "dc": {
          "key": "73"
        },
        "deletable": false,
        "editable": false,
        "run_control": {
          "frozen": true
        },
        "tags": [
          "context"
        ],
        "id": "MPrg7dMd09oM"
      },
      "source": [
        "## 9. Load saved model and score\n",
        "<p>Now we'll load the saved and evaluateto see how well the model did at classifying bumble bees and honey bees for the test and validation sets. Given that our classes are balanced, a model that predicts <code>1.0</code> for every image would get an accuracy around <code>0.5</code>.</p>"
      ]
    },
    {
      "cell_type": "code",
      "metadata": {
        "colab": {
          "base_uri": "https://localhost:8080/"
        },
        "dc": {
          "key": "59"
        },
        "id": "tS6AeRENM5LG",
        "tags": [
          "sample_code"
        ],
        "outputId": "1b32fdb3-4c65-4fa6-f726-618ffdc9f9a2"
      },
      "source": [
        "# load pre-trained model\n",
        "pretrained_cnn = keras.models.load_model('/content/drive/MyDrive/Naive-Bees-Deep-Learning-with-Images/datasets/checkpoint_notebook/weights-improvement-04-0.48.hdf5')\n",
        "\n",
        "# evaluate model on test set\n",
        "score = pretrained_cnn.evaluate(x_test, y_test, verbose=0)\n",
        "print('Test loss:', score[0])\n",
        "print('Test accuracy:', score[1])\n",
        "\n",
        "print(\"\")\n",
        "\n",
        "# evaluate model on holdout set\n",
        "eval_score = pretrained_cnn.evaluate(x_eval, y_eval, verbose=0)\n",
        "# print loss score\n",
        "print('Eval loss:', eval_score[0])\n",
        "# print accuracy score\n",
        "print('Eval accuracy:', eval_score[1])"
      ],
      "execution_count": null,
      "outputs": [
        {
          "output_type": "stream",
          "text": [
            "Test loss: 0.4846564829349518\n",
            "Test accuracy: 0.7944881916046143\n",
            "\n",
            "Eval loss: 0.4536413848400116\n",
            "Eval accuracy: 0.8110831379890442\n"
          ],
          "name": "stdout"
        }
      ]
    },
    {
      "cell_type": "markdown",
      "metadata": {
        "dc": {
          "key": "73"
        },
        "deletable": false,
        "editable": false,
        "id": "Ri90oXLvM5LI",
        "run_control": {
          "frozen": true
        },
        "tags": [
          "context"
        ]
      },
      "source": [
        "## 10. Generate predictions\n",
        "<p>Now lets access probabilities and class predictions for individual images using the <code>.predict</code> and <code>.predict_classes</code> methods.</p>\n",
        "<p>As we now have a deep learning model that can be used to identify honey bees and bumble bees in images, lets test this on our evaluation dataset which the model has never seen during training."
      ]
    },
    {
      "cell_type": "code",
      "metadata": {
        "colab": {
          "base_uri": "https://localhost:8080/"
        },
        "dc": {
          "key": "73"
        },
        "id": "QwGU5dn2M5LI",
        "tags": [
          "sample_code"
        ],
        "outputId": "35a81815-bbfd-46ef-cc97-9a2e10789379"
      },
      "source": [
        "# predicted probabilities for x_eval\n",
        "y_proba = pretrained_cnn.predict(x_eval)\n",
        "\n",
        "print(\"First five probabilities:\")\n",
        "print(y_proba[:5])\n",
        "print(\"\")\n",
        "\n",
        "# predicted classes for x_eval\n",
        "y_pred = pretrained_cnn.predict_classes(x_eval)\n",
        "\n",
        "print(\"First five class predictions:\")\n",
        "print(y_pred[:5])\n",
        "print(\"\")"
      ],
      "execution_count": null,
      "outputs": [
        {
          "output_type": "stream",
          "text": [
            "First five probabilities:\n",
            "[[0.81092304]\n",
            " [0.911364  ]\n",
            " [0.7142421 ]\n",
            " [0.8865571 ]\n",
            " [0.62124336]]\n",
            "\n"
          ],
          "name": "stdout"
        },
        {
          "output_type": "stream",
          "text": [
            "/usr/local/lib/python3.6/dist-packages/tensorflow/python/keras/engine/sequential.py:450: UserWarning: `model.predict_classes()` is deprecated and will be removed after 2021-01-01. Please use instead:* `np.argmax(model.predict(x), axis=-1)`,   if your model does multi-class classification   (e.g. if it uses a `softmax` last-layer activation).* `(model.predict(x) > 0.5).astype(\"int32\")`,   if your model does binary classification   (e.g. if it uses a `sigmoid` last-layer activation).\n",
            "  warnings.warn('`model.predict_classes()` is deprecated and '\n"
          ],
          "name": "stderr"
        },
        {
          "output_type": "stream",
          "text": [
            "First five class predictions:\n",
            "[[1]\n",
            " [1]\n",
            " [1]\n",
            " [1]\n",
            " [1]]\n",
            "\n"
          ],
          "name": "stdout"
        }
      ]
    }
  ]
}